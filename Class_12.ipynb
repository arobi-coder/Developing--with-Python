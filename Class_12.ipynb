{
  "nbformat": 4,
  "nbformat_minor": 0,
  "metadata": {
    "colab": {
      "provenance": [],
      "authorship_tag": "ABX9TyMSpm+AqGohTuGODBqUgXhP",
      "include_colab_link": true
    },
    "kernelspec": {
      "name": "python3",
      "display_name": "Python 3"
    },
    "language_info": {
      "name": "python"
    }
  },
  "cells": [
    {
      "cell_type": "markdown",
      "metadata": {
        "id": "view-in-github",
        "colab_type": "text"
      },
      "source": [
        "<a href=\"https://colab.research.google.com/github/arobi-coder/Developing--with-Python/blob/main/Class_12.ipynb\" target=\"_parent\"><img src=\"https://colab.research.google.com/assets/colab-badge.svg\" alt=\"Open In Colab\"/></a>"
      ]
    },
    {
      "cell_type": "code",
      "execution_count": null,
      "metadata": {
        "colab": {
          "base_uri": "https://localhost:8080/"
        },
        "id": "FQ5HinAL56-t",
        "outputId": "649ee65f-7f5a-41c5-c842-2d9821dcf5ff"
      },
      "outputs": [
        {
          "output_type": "stream",
          "name": "stdout",
          "text": [
            "5\n",
            "a+5 -> 10\n",
            "a+=5 -> 15\n",
            "a-=5 -> 10\n",
            "a/=5 -> 2.0\n",
            "a*=5 -> 10.0\n"
          ]
        }
      ],
      "source": [
        "a=5\n",
        "print(a)\n",
        "a=a+5\n",
        "print('a+5 ->',a)\n",
        "a += 5\n",
        "print('a+=5 ->',a)\n",
        "a -= 5\n",
        "print('a-=5 ->',a)\n",
        "a /= 5\n",
        "print('a/=5 ->',a)\n",
        "a *= 5\n",
        "print('a*=5 ->',a)"
      ]
    },
    {
      "cell_type": "code",
      "source": [
        "import math\n",
        "print(math.pi)\n",
        "print(math.pow(2,5))"
      ],
      "metadata": {
        "colab": {
          "base_uri": "https://localhost:8080/"
        },
        "id": "MqebSf4b9sfi",
        "outputId": "92609c8a-942e-47df-89f2-0c3aff8041bc"
      },
      "execution_count": null,
      "outputs": [
        {
          "output_type": "stream",
          "name": "stdout",
          "text": [
            "3.141592653589793\n",
            "32.0\n"
          ]
        }
      ]
    },
    {
      "cell_type": "code",
      "source": [
        "print(math.floor(1.22334))\n",
        "print(math.ceil(1.22334))\n",
        "print(round(1.22334))"
      ],
      "metadata": {
        "colab": {
          "base_uri": "https://localhost:8080/"
        },
        "id": "FbB-V8hqBEyn",
        "outputId": "4a2b588a-a056-47b1-9a7e-fe1a4227a91c"
      },
      "execution_count": null,
      "outputs": [
        {
          "output_type": "stream",
          "name": "stdout",
          "text": [
            "1\n",
            "2\n",
            "1\n"
          ]
        }
      ]
    },
    {
      "cell_type": "code",
      "source": [
        "import math\n",
        "a=5.6\n",
        "a= math.floor(a)\n",
        "print(a)"
      ],
      "metadata": {
        "colab": {
          "base_uri": "https://localhost:8080/"
        },
        "id": "dJS_5YlMJ8a9",
        "outputId": "86fd46b8-d2e5-4ea6-deb2-be5966e770fd"
      },
      "execution_count": null,
      "outputs": [
        {
          "output_type": "stream",
          "name": "stdout",
          "text": [
            "5\n"
          ]
        }
      ]
    },
    {
      "cell_type": "code",
      "source": [
        "# Grace Hopper( 1st compiler designer)( 1st debuging  word use koren)\n",
        "a=5.6\n",
        "a= int(a)\n",
        "print(a)"
      ],
      "metadata": {
        "colab": {
          "base_uri": "https://localhost:8080/"
        },
        "id": "LYnTZdACWzkQ",
        "outputId": "85c4a7d0-efef-4192-fb3e-ce53e7089fab"
      },
      "execution_count": null,
      "outputs": [
        {
          "output_type": "stream",
          "name": "stdout",
          "text": [
            "5\n"
          ]
        }
      ]
    },
    {
      "cell_type": "code",
      "source": [
        "# Function\n",
        "def float_to_int():\n",
        "  print('Hello World')\n",
        "float_to_int()"
      ],
      "metadata": {
        "colab": {
          "base_uri": "https://localhost:8080/"
        },
        "id": "ODzyIyYZKias",
        "outputId": "86b369c4-aa73-4140-f8ff-66be626e5d47"
      },
      "execution_count": null,
      "outputs": [
        {
          "output_type": "stream",
          "name": "stdout",
          "text": [
            "Hello World\n"
          ]
        }
      ]
    },
    {
      "cell_type": "code",
      "source": [
        "def hello_to_the_user(student):\n",
        "  print(f'Hello {student}')\n",
        "user='Arobi'\n",
        "hello_to_the_user(user)\n",
        "user='Shimu'\n",
        "hello_to_the_user(user)\n",
        "user='Bushra'\n",
        "hello_to_the_user(user)\n",
        "user='Shafa'\n",
        "hello_to_the_user(user)"
      ],
      "metadata": {
        "colab": {
          "base_uri": "https://localhost:8080/"
        },
        "id": "IQYYK-HcLaR8",
        "outputId": "81ea207f-5bab-400b-dc89-6c2e1d37c2f6"
      },
      "execution_count": null,
      "outputs": [
        {
          "output_type": "stream",
          "name": "stdout",
          "text": [
            "Hello Arobi\n",
            "Hello Shimu\n",
            "Hello Bushra\n",
            "Hello Shafa\n"
          ]
        }
      ]
    },
    {
      "cell_type": "code",
      "source": [
        "def sum(a,b):\n",
        "  return int(a) + int(b)\n",
        "a= input('a:')\n",
        "b= input('b:')\n",
        "print(sum(a,b))\n",
        "print(sum(a,2))\n",
        "print(sum(a,5))"
      ],
      "metadata": {
        "id": "15aFfgJMOEHE",
        "colab": {
          "base_uri": "https://localhost:8080/"
        },
        "outputId": "96621757-69f0-46a5-a8e5-2a0df790a8ef"
      },
      "execution_count": null,
      "outputs": [
        {
          "output_type": "stream",
          "name": "stdout",
          "text": [
            "a:100\n",
            "b:200\n",
            "300\n",
            "102\n",
            "105\n"
          ]
        }
      ]
    },
    {
      "cell_type": "code",
      "source": [
        "sum(10,2)"
      ],
      "metadata": {
        "colab": {
          "base_uri": "https://localhost:8080/"
        },
        "id": "E2y_AlZJYHco",
        "outputId": "f719fafa-33d6-4be7-89fc-ce555c437ad7"
      },
      "execution_count": null,
      "outputs": [
        {
          "output_type": "execute_result",
          "data": {
            "text/plain": [
              "12"
            ]
          },
          "metadata": {},
          "execution_count": 22
        }
      ]
    },
    {
      "cell_type": "code",
      "source": [
        "def dollar_convrsion_in_tk(dollar_rate, amount_in_dollar):\n",
        "  return dollar_rate * amount_in_dollar\n",
        "dr= 119.63\n",
        "dollar= float(input('How much dollar you wanna convert:'))\n",
        "#result = dollar_convrsion_in_tk(dr,dollar)\n",
        "print(dollar_convrsion_in_tk(dr,dollar))"
      ],
      "metadata": {
        "id": "lTWrcXkWZpL4",
        "colab": {
          "base_uri": "https://localhost:8080/"
        },
        "outputId": "f48c2690-b1c4-42e9-9b93-a092904d9dae"
      },
      "execution_count": null,
      "outputs": [
        {
          "output_type": "stream",
          "name": "stdout",
          "text": [
            "How much dollar you wanna convert:100\n",
            "11963.0\n"
          ]
        }
      ]
    },
    {
      "cell_type": "code",
      "source": [
        "def sum_of_three(a,b,c):\n",
        "  sum_of_two= sum(a,b)\n",
        "  sum_of_all = sum(sum_of_two,c)\n",
        "  return(sum_of_all)\n",
        "total_sum= sum_of_three(5,100,-45)\n",
        "print(total_sum)"
      ],
      "metadata": {
        "colab": {
          "base_uri": "https://localhost:8080/"
        },
        "id": "v-dvlSGaHDHk",
        "outputId": "7aa47340-aa28-404b-bae0-7bc8ddd94941"
      },
      "execution_count": null,
      "outputs": [
        {
          "output_type": "stream",
          "name": "stdout",
          "text": [
            "60\n"
          ]
        }
      ]
    }
  ]
}