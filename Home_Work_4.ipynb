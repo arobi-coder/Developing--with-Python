{
  "nbformat": 4,
  "nbformat_minor": 0,
  "metadata": {
    "colab": {
      "provenance": [],
      "authorship_tag": "ABX9TyP+OaO1Rsj6/l+nX5QLSvXn",
      "include_colab_link": true
    },
    "kernelspec": {
      "name": "python3",
      "display_name": "Python 3"
    },
    "language_info": {
      "name": "python"
    }
  },
  "cells": [
    {
      "cell_type": "markdown",
      "metadata": {
        "id": "view-in-github",
        "colab_type": "text"
      },
      "source": [
        "<a href=\"https://colab.research.google.com/github/arobi-coder/Developing--with-Python/blob/main/Home_Work_4.ipynb\" target=\"_parent\"><img src=\"https://colab.research.google.com/assets/colab-badge.svg\" alt=\"Open In Colab\"/></a>"
      ]
    },
    {
      "cell_type": "code",
      "execution_count": null,
      "metadata": {
        "colab": {
          "base_uri": "https://localhost:8080/"
        },
        "id": "CXrZjWHiNtsr",
        "outputId": "bba17196-216f-456f-befa-348ceb3b064a"
      },
      "outputs": [
        {
          "output_type": "stream",
          "name": "stdout",
          "text": [
            "Multiplication of number: [ 3  6  9 12 15 18 21]\n",
            "Mean of multiplication number: 12.0\n",
            "Maximum: 21\n"
          ]
        }
      ],
      "source": [
        "import numpy as np\n",
        "number = np.array([1,2,3,4,5,6,7])\n",
        "mult_num = number * 3\n",
        "print(\"Multiplication of number:\",mult_num)\n",
        "print(\"Mean of multiplication number:\",mult_num.mean())\n",
        "print(\"Maximum:\",mult_num.max())"
      ]
    },
    {
      "cell_type": "code",
      "source": [
        "arr =np.array([[30,10],[20,40]])\n",
        "print(\"Number of Dimensions:\",arr.ndim)\n",
        "print(\"Mean:\",arr.mean())\n",
        "print(\"Transpose:\\n\",arr.T)\n",
        "print(\"Sorted along rows:\\n\",np.sort(arr))\n",
        "print(\"Elements greater than 25 :\",arr[arr>25])\n",
        "print(\"Dot product:\\n\",np.dot(arr,arr.T))"
      ],
      "metadata": {
        "colab": {
          "base_uri": "https://localhost:8080/"
        },
        "id": "LGtJ54MpQ5cU",
        "outputId": "84824e5d-00fb-48d5-d15a-a9b51f231a2a"
      },
      "execution_count": null,
      "outputs": [
        {
          "output_type": "stream",
          "name": "stdout",
          "text": [
            "Number of Dimensions: 2\n",
            "Mean: 25.0\n",
            "Transpose:\n",
            " [[30 20]\n",
            " [10 40]]\n",
            "Sorted along rows:\n",
            " [[10 30]\n",
            " [20 40]]\n",
            "Elements greater than 25 : [30 40]\n",
            "Dot product:\n",
            " [[1000 1000]\n",
            " [1000 2000]]\n"
          ]
        }
      ]
    }
  ]
}