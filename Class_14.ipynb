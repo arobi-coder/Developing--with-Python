{
  "nbformat": 4,
  "nbformat_minor": 0,
  "metadata": {
    "colab": {
      "provenance": []
    },
    "kernelspec": {
      "name": "python3",
      "display_name": "Python 3"
    },
    "language_info": {
      "name": "python"
    }
  },
  "cells": [
    {
      "cell_type": "code",
      "execution_count": null,
      "metadata": {
        "id": "63Nofak2fmgI"
      },
      "outputs": [],
      "source": [
        "import os\n",
        "os.rename()\n",
        "os.remove()"
      ]
    },
    {
      "cell_type": "code",
      "source": [],
      "metadata": {
        "id": "2GvDNnKTjm8n"
      },
      "execution_count": null,
      "outputs": []
    }
  ]
}