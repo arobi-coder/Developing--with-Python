{
  "nbformat": 4,
  "nbformat_minor": 0,
  "metadata": {
    "colab": {
      "provenance": []
    },
    "kernelspec": {
      "name": "python3",
      "display_name": "Python 3"
    },
    "language_info": {
      "name": "python"
    }
  },
  "cells": [
    {
      "cell_type": "code",
      "execution_count": null,
      "metadata": {
        "colab": {
          "base_uri": "https://localhost:8080/"
        },
        "id": "YuYEKeY0xkIA",
        "outputId": "49af85b3-d778-4e34-e40d-7720ea0b73c6"
      },
      "outputs": [
        {
          "output_type": "stream",
          "name": "stdout",
          "text": [
            "Input Number:3\n",
            "Input number:2\n",
            "6.0\n"
          ]
        }
      ],
      "source": [
        "def multiplication():\n",
        "  return result\n",
        "num_1 = float(input('Input Number:'))\n",
        "num_2 = float(input('Input number:'))\n",
        "result = num_1 * num_2\n",
        "print(result)"
      ]
    },
    {
      "cell_type": "code",
      "source": [
        "def number(x):\n",
        "  p='even' if x%2==0 else 'odd'\n",
        "  return p\n",
        "n= int(input())\n",
        "print(number(n))"
      ],
      "metadata": {
        "colab": {
          "base_uri": "https://localhost:8080/"
        },
        "id": "GHd9uftlzrXS",
        "outputId": "dce0f78a-7f7b-439a-83a3-da3596e72fb1"
      },
      "execution_count": null,
      "outputs": [
        {
          "output_type": "stream",
          "name": "stdout",
          "text": [
            "4\n",
            "even\n"
          ]
        }
      ]
    },
    {
      "cell_type": "code",
      "source": [
        "def calculator():\n",
        "  return {f'sum= {addition}, subtraction= {subtraction}, multiplication= {multiplication}, division= {division}'}\n",
        "x= float(input())\n",
        "y= float(input())\n",
        "addition= x + y\n",
        "subtraction= x - y\n",
        "multiplication= x * y\n",
        "division = x / y\n",
        "print(calculator())"
      ],
      "metadata": {
        "colab": {
          "base_uri": "https://localhost:8080/"
        },
        "id": "0nc15ZP63prl",
        "outputId": "d6e85085-ece6-45a3-c62d-789e128342af"
      },
      "execution_count": null,
      "outputs": [
        {
          "output_type": "stream",
          "name": "stdout",
          "text": [
            "2\n",
            "4\n",
            "{'sum= 6.0, subtraction= -2.0, multiplication= 8.0, division= 0.5'}\n"
          ]
        }
      ]
    },
    {
      "cell_type": "code",
      "source": [
        "def Largest_number(x,y):\n",
        "  x='Largest' if x>y else 'Smallest'\n",
        "  return x\n",
        "x= float(input())\n",
        "y= float(input())\n",
        "print('x is',Largest_number(x,y))"
      ],
      "metadata": {
        "colab": {
          "base_uri": "https://localhost:8080/"
        },
        "id": "S8jqOs5u6MXi",
        "outputId": "2fa6fd21-5730-489c-b0f3-bb6fdfa8bcd8"
      },
      "execution_count": null,
      "outputs": [
        {
          "output_type": "stream",
          "name": "stdout",
          "text": [
            "3\n",
            "4\n",
            "x is Smallest\n"
          ]
        }
      ]
    }
  ]
}